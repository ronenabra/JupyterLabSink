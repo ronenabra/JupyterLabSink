{
 "cells": [
  {
   "cell_type": "code",
   "execution_count": 1,
   "id": "2f4913a1-3fa0-4ff0-95f8-cb0c44d6a1bd",
   "metadata": {},
   "outputs": [
    {
     "name": "stdout",
     "output_type": "stream",
     "text": [
      "do it\n"
     ]
    }
   ],
   "source": [
    "print (\"do it\")"
   ]
  },
  {
   "cell_type": "markdown",
   "id": "1e9102ad-267a-47d4-9051-8b613b2a75e7",
   "metadata": {},
   "source": [
    "*This is some content*"
   ]
  },
  {
   "cell_type": "code",
   "execution_count": null,
   "id": "0848c6af-7ccc-48c2-a8be-b6c2f4908be0",
   "metadata": {},
   "outputs": [],
   "source": []
  }
 ],
 "metadata": {
  "kernelspec": {
   "display_name": "Python 3",
   "language": "python",
   "name": "python3"
  },
  "language_info": {
   "codemirror_mode": {
    "name": "ipython",
    "version": 3
   },
   "file_extension": ".py",
   "mimetype": "text/x-python",
   "name": "python",
   "nbconvert_exporter": "python",
   "pygments_lexer": "ipython3",
   "version": "3.7.10"
  }
 },
 "nbformat": 4,
 "nbformat_minor": 5
}
