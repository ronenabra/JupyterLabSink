{
 "cells": [
  {
   "cell_type": "code",
   "execution_count": 1,
   "id": "db244d0b",
   "metadata": {},
   "outputs": [
    {
     "data": {
      "application/vnd.jupyter.widget-view+json": {
       "model_id": "86ac4220748349ff9a6bc1b40e5a4f42",
       "version_major": 2,
       "version_minor": 0
      },
      "text/plain": [
       "Output()"
      ]
     },
     "metadata": {},
     "output_type": "display_data"
    }
   ],
   "source": [
    "import ipywidgets as widgets\n",
    "import time\n",
    "from datetime import datetime as dt\n",
    "from IPython.display import HTML\n",
    "from IPython.display import display\n",
    "import threading\n",
    "\n",
    "out = widgets.Output()\n",
    "\n",
    "i = 0\n",
    "\n",
    "@out.capture(clear_output=True, wait=True)\n",
    "def display_time():\n",
    "    now = dt.now().strftime(\"%H:%M:%S\")\n",
    "    global i\n",
    "    i += 1\n",
    "    display(HTML(f\"\"\"<h1><center>{i} - {now}</center></h1>\"\"\"))\n",
    "\n",
    "def run_time():\n",
    "    while True:\n",
    "        time.sleep(1)\n",
    "        display_time()\n",
    "\n",
    "out"
   ]
  },
  {
   "cell_type": "code",
   "execution_count": 2,
   "id": "bf8e6f0c",
   "metadata": {},
   "outputs": [],
   "source": [
    "t1 = threading.Thread(target=run_time)  \n",
    "t1.start()"
   ]
  },
  {
   "cell_type": "code",
   "execution_count": 3,
   "id": "a99446e2",
   "metadata": {},
   "outputs": [
    {
     "name": "stdout",
     "output_type": "stream",
     "text": [
      "repo2  repo3  some-repo  test11.ipynb  test1.ipynb\r\n"
     ]
    }
   ],
   "source": [
    "!ls"
   ]
  }
 ],
 "metadata": {
  "kernelspec": {
   "display_name": "Python 3",
   "language": "python",
   "name": "python3"
  },
  "language_info": {
   "codemirror_mode": {
    "name": "ipython",
    "version": 3
   },
   "file_extension": ".py",
   "mimetype": "text/x-python",
   "name": "python",
   "nbconvert_exporter": "python",
   "pygments_lexer": "ipython3",
   "version": "3.7.10"
  }
 },
 "nbformat": 4,
 "nbformat_minor": 5
}
